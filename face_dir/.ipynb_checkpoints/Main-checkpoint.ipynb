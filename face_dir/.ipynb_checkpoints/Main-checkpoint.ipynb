{
 "cells": [
  {
   "cell_type": "code",
   "execution_count": 1,
   "metadata": {
    "collapsed": true
   },
   "outputs": [],
   "source": [
    "from Tkinter import *\n",
    "import os"
   ]
  },
  {
   "cell_type": "code",
   "execution_count": 2,
   "metadata": {
    "collapsed": true
   },
   "outputs": [],
   "source": [
    "root = Tk(className = 'face_recognition_gui')\n",
    "svalue = StringVar() \n",
    "\n",
    "w = Entry(root,textvariable=svalue) \n",
    "w.pack()\n"
   ]
  },
  {
   "cell_type": "code",
   "execution_count": 3,
   "metadata": {
    "collapsed": false
   },
   "outputs": [],
   "source": [
    "def train_fisher_btn_load():\n",
    "    name = svalue.get()\n",
    "    os.system('ipython nbconvert --execute --to python train_fisher.ipynb %s'%name)"
   ]
  },
  {
   "cell_type": "code",
   "execution_count": 4,
   "metadata": {
    "collapsed": true
   },
   "outputs": [],
   "source": [
    "def train_eigen_btn_load():\n",
    "    name = svalue.get()\n",
    "    os.system('ipython nbconvert --execute --to python train_eigen.ipynb %s'%name)"
   ]
  },
  {
   "cell_type": "code",
   "execution_count": 5,
   "metadata": {
    "collapsed": true
   },
   "outputs": [],
   "source": [
    "def recog_fisher_btn_load():\n",
    "    os.system('ipython nbconvert --execute --to python recog_fisher.ipynb')\n"
   ]
  },
  {
   "cell_type": "code",
   "execution_count": 6,
   "metadata": {
    "collapsed": true
   },
   "outputs": [],
   "source": [
    "def recog_eigen_btn_load():\n",
    "    os.system('ipython nbconvert --execute --to python recog_eigen.ipynb')"
   ]
  },
  {
   "cell_type": "code",
   "execution_count": 7,
   "metadata": {
    "collapsed": false
   },
   "outputs": [],
   "source": [
    "trainF_btn = Button(root,text=\"Train (FisherFaces)\", command=train_fisher_btn_load)\n",
    "trainF_btn.pack()\n",
    "\n",
    "recogF_btn = Button(root,text=\"Recognize (FisherFaces)\", command=recog_fisher_btn_load)\n",
    "recogF_btn.pack()\n",
    "\n",
    "trainE_btn = Button(root,text=\"Train (EigenFaces)\", command=train_eigen_btn_load)\n",
    "trainE_btn.pack()\n",
    "\n",
    "recogE_btn = Button(root,text=\"Recognize (EigenFaces)\", command=recog_eigen_btn_load)\n",
    "recogE_btn.pack()\n",
    "\n",
    "root.mainloop()"
   ]
  },
  {
   "cell_type": "code",
   "execution_count": null,
   "metadata": {
    "collapsed": true
   },
   "outputs": [],
   "source": []
  },
  {
   "cell_type": "code",
   "execution_count": null,
   "metadata": {
    "collapsed": true
   },
   "outputs": [],
   "source": []
  }
 ],
 "metadata": {
  "kernelspec": {
   "display_name": "Python 2",
   "language": "python",
   "name": "python2"
  },
  "language_info": {
   "codemirror_mode": {
    "name": "ipython",
    "version": 2
   },
   "file_extension": ".py",
   "mimetype": "text/x-python",
   "name": "python",
   "nbconvert_exporter": "python",
   "pygments_lexer": "ipython2",
   "version": "2.7.6"
  }
 },
 "nbformat": 4,
 "nbformat_minor": 1
}
