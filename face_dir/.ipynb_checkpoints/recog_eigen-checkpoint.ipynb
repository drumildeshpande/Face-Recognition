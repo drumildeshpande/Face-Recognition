{
 "cells": [
  {
   "cell_type": "code",
   "execution_count": 2,
   "metadata": {
    "collapsed": true
   },
   "outputs": [],
   "source": [
    "import numpy as np\n",
    "import cv2\n",
    "import sys\n",
    "import os\n",
    "RESIZE_FACTOR = 4"
   ]
  },
  {
   "cell_type": "code",
   "execution_count": 3,
   "metadata": {
    "collapsed": true
   },
   "outputs": [],
   "source": [
    "class RecogEigenFaces:\n",
    "    def __init__(self):\n",
    "        cascPath = \"haarcascade_frontalface_default.xml\"\n",
    "        self.face_cascade = cv2.CascadeClassifier(cascPath)\n",
    "        self.face_dir = 'train_data'\n",
    "        self.model = cv2.createEigenFaceRecognizer()\n",
    "        self.face_names = []\n",
    "\n",
    "    def load_trained_data(self):\n",
    "        names = {}\n",
    "        key = 0\n",
    "        for (subdirs, dirs, files) in os.walk(self.face_dir):\n",
    "            for subdir in dirs:\n",
    "                names[key] = subdir\n",
    "                key += 1\n",
    "        self.names = names \n",
    "        self.model.load('trained_data_for_eigen.xml')\n",
    "\n",
    "    def show_video(self):\n",
    "        video_capture = cv2.VideoCapture(0)\n",
    "        while True:\n",
    "            ret, frame = video_capture.read()\n",
    "            inImg = np.array(frame)\n",
    "            outImg, self.face_names = self.process_image(inImg)\n",
    "            cv2.imshow('Video', outImg)\n",
    "\n",
    "            \n",
    "            if cv2.waitKey(1) & 0xFF == ord('q'):\n",
    "                video_capture.release()\n",
    "                cv2.destroyAllWindows()\n",
    "                return\n",
    "\n",
    "    def process_image(self, inImg):\n",
    "        frame = cv2.flip(inImg,1)\n",
    "        resized_width, resized_height = (112, 92)\n",
    "        gray = cv2.cvtColor(frame, cv2.COLOR_BGR2GRAY)        \n",
    "        gray_resized = cv2.resize(gray, (gray.shape[1]/RESIZE_FACTOR, gray.shape[0]/RESIZE_FACTOR))        \n",
    "        faces = self.face_cascade.detectMultiScale(\n",
    "                gray_resized,\n",
    "                scaleFactor=1.1,\n",
    "                minNeighbors=5,\n",
    "                minSize=(30, 30),\n",
    "                flags=cv2.cv.CV_HAAR_SCALE_IMAGE\n",
    "                )\n",
    "        persons = []\n",
    "        for i in range(len(faces)):\n",
    "            face_i = faces[i]\n",
    "            x = face_i[0] * RESIZE_FACTOR\n",
    "            y = face_i[1] * RESIZE_FACTOR\n",
    "            w = face_i[2] * RESIZE_FACTOR\n",
    "            h = face_i[3] * RESIZE_FACTOR\n",
    "            face = gray[y:y+h, x:x+w]\n",
    "            face_resized = cv2.resize(face, (resized_width, resized_height))\n",
    "            confidence = self.model.predict(face_resized)\n",
    "            if confidence[1]<3500:\n",
    "                person = self.names[confidence[0]]\n",
    "                cv2.rectangle(frame, (x,y), (x+w, y+h), (255, 0, 0), 3)\n",
    "                cv2.putText(frame, '%s - %.0f' % (person, confidence[1]), (x-10, y-10), cv2.FONT_HERSHEY_PLAIN,1,(0, 255, 0))\n",
    "            else:\n",
    "                person = 'Unknown'\n",
    "                cv2.rectangle(frame, (x,y), (x+w, y+h), (0, 0, 255), 3)\n",
    "                cv2.putText(frame, person, (x-10, y-10), cv2.FONT_HERSHEY_PLAIN,1,(0, 255, 0))\n",
    "            persons.append(person)\n",
    "        return (frame, persons)"
   ]
  },
  {
   "cell_type": "code",
   "execution_count": 4,
   "metadata": {
    "collapsed": false
   },
   "outputs": [
    {
     "ename": "error",
     "evalue": "/build/buildd/opencv-2.4.8+dfsg1/modules/contrib/src/facerec.cpp:325: error: (-2) File can't be opened for writing! in function load\n",
     "output_type": "error",
     "traceback": [
      "\u001b[0;31m---------------------------------------------------------------------------\u001b[0m",
      "\u001b[0;31merror\u001b[0m                                     Traceback (most recent call last)",
      "\u001b[0;32m<ipython-input-4-8d4631a8cac0>\u001b[0m in \u001b[0;36m<module>\u001b[0;34m()\u001b[0m\n\u001b[1;32m      1\u001b[0m \u001b[0;32mif\u001b[0m \u001b[0m__name__\u001b[0m \u001b[0;34m==\u001b[0m \u001b[0;34m'__main__'\u001b[0m\u001b[0;34m:\u001b[0m\u001b[0;34m\u001b[0m\u001b[0m\n\u001b[1;32m      2\u001b[0m     \u001b[0mrecognizer\u001b[0m \u001b[0;34m=\u001b[0m \u001b[0mRecogEigenFaces\u001b[0m\u001b[0;34m(\u001b[0m\u001b[0;34m)\u001b[0m\u001b[0;34m\u001b[0m\u001b[0m\n\u001b[0;32m----> 3\u001b[0;31m     \u001b[0mrecognizer\u001b[0m\u001b[0;34m.\u001b[0m\u001b[0mload_trained_data\u001b[0m\u001b[0;34m(\u001b[0m\u001b[0;34m)\u001b[0m\u001b[0;34m\u001b[0m\u001b[0m\n\u001b[0m\u001b[1;32m      4\u001b[0m     \u001b[0;32mprint\u001b[0m \u001b[0;34m\"Press 'q' to quit video\"\u001b[0m\u001b[0;34m\u001b[0m\u001b[0m\n\u001b[1;32m      5\u001b[0m     \u001b[0mrecognizer\u001b[0m\u001b[0;34m.\u001b[0m\u001b[0mshow_video\u001b[0m\u001b[0;34m(\u001b[0m\u001b[0;34m)\u001b[0m\u001b[0;34m\u001b[0m\u001b[0m\n",
      "\u001b[0;32m<ipython-input-3-c14b3168bea6>\u001b[0m in \u001b[0;36mload_trained_data\u001b[0;34m(self)\u001b[0m\n\u001b[1;32m     15\u001b[0m                 \u001b[0mkey\u001b[0m \u001b[0;34m+=\u001b[0m \u001b[0;36m1\u001b[0m\u001b[0;34m\u001b[0m\u001b[0m\n\u001b[1;32m     16\u001b[0m         \u001b[0mself\u001b[0m\u001b[0;34m.\u001b[0m\u001b[0mnames\u001b[0m \u001b[0;34m=\u001b[0m \u001b[0mnames\u001b[0m\u001b[0;34m\u001b[0m\u001b[0m\n\u001b[0;32m---> 17\u001b[0;31m         \u001b[0mself\u001b[0m\u001b[0;34m.\u001b[0m\u001b[0mmodel\u001b[0m\u001b[0;34m.\u001b[0m\u001b[0mload\u001b[0m\u001b[0;34m(\u001b[0m\u001b[0;34m'eigen_trained_data.xml'\u001b[0m\u001b[0;34m)\u001b[0m\u001b[0;34m\u001b[0m\u001b[0m\n\u001b[0m\u001b[1;32m     18\u001b[0m \u001b[0;34m\u001b[0m\u001b[0m\n\u001b[1;32m     19\u001b[0m     \u001b[0;32mdef\u001b[0m \u001b[0mshow_video\u001b[0m\u001b[0;34m(\u001b[0m\u001b[0mself\u001b[0m\u001b[0;34m)\u001b[0m\u001b[0;34m:\u001b[0m\u001b[0;34m\u001b[0m\u001b[0m\n",
      "\u001b[0;31merror\u001b[0m: /build/buildd/opencv-2.4.8+dfsg1/modules/contrib/src/facerec.cpp:325: error: (-2) File can't be opened for writing! in function load\n"
     ]
    }
   ],
   "source": [
    "if __name__ == '__main__':\n",
    "    recognizer = RecogEigenFaces()\n",
    "    recognizer.load_trained_data()\n",
    "    print \"Press 'q' to quit video\"\n",
    "    recognizer.show_video()\n"
   ]
  },
  {
   "cell_type": "code",
   "execution_count": null,
   "metadata": {
    "collapsed": true
   },
   "outputs": [],
   "source": []
  },
  {
   "cell_type": "code",
   "execution_count": null,
   "metadata": {
    "collapsed": true
   },
   "outputs": [],
   "source": []
  }
 ],
 "metadata": {
  "kernelspec": {
   "display_name": "Python 2",
   "language": "python",
   "name": "python2"
  },
  "language_info": {
   "codemirror_mode": {
    "name": "ipython",
    "version": 2
   },
   "file_extension": ".py",
   "mimetype": "text/x-python",
   "name": "python",
   "nbconvert_exporter": "python",
   "pygments_lexer": "ipython2",
   "version": "2.7.6"
  }
 },
 "nbformat": 4,
 "nbformat_minor": 1
}
